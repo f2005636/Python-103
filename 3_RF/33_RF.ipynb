{
 "cells": [
  {
   "cell_type": "markdown",
   "metadata": {},
   "source": [
    "# Prudential Life Insurance Assessment"
   ]
  },
  {
   "cell_type": "code",
   "execution_count": 1,
   "metadata": {
    "collapsed": true
   },
   "outputs": [],
   "source": [
    "import math\n",
    "import numpy as np\n",
    "import pandas as pd\n",
    "from datetime import datetime\n",
    "\n",
    "import seaborn as sns\n",
    "import matplotlib.pyplot as plt\n",
    "%matplotlib inline \n",
    "plt.style.use('seaborn-whitegrid')\n",
    "\n",
    "from sklearn.ensemble import RandomForestClassifier\n",
    "from sklearn.metrics import classification_report\n",
    "from sklearn.metrics import confusion_matrix"
   ]
  },
  {
   "cell_type": "markdown",
   "metadata": {},
   "source": [
    "# Get the Data"
   ]
  },
  {
   "cell_type": "code",
   "execution_count": 2,
   "metadata": {
    "collapsed": true
   },
   "outputs": [],
   "source": [
    "df1 = pd.read_csv('E:/AdvAnal/python_103/1_Data/df_train1.csv')\n",
    "df2 = pd.read_csv('E:/AdvAnal/python_103/1_Data/df_train2.csv')\n",
    "df3 = pd.read_csv('E:/AdvAnal/python_103/1_Data/df_train3.csv')\n",
    "df4 = pd.read_csv('E:/AdvAnal/python_103/1_Data/df_train4.csv')\n",
    "df5 = pd.read_csv('E:/AdvAnal/python_103/1_Data/df_train5.csv')\n",
    "df6 = pd.read_csv('E:/AdvAnal/python_103/1_Data/df_train6.csv')\n",
    "dft = pd.read_csv('E:/AdvAnal/python_103/1_Data/df_test.csv')"
   ]
  },
  {
   "cell_type": "code",
   "execution_count": 3,
   "metadata": {},
   "outputs": [
    {
     "name": "stdout",
     "output_type": "stream",
     "text": [
      "<class 'pandas.core.frame.DataFrame'>\n",
      "Int64Index: 49381 entries, 0 to 9380\n",
      "Columns: 127 entries, y to WT_\n",
      "dtypes: int64(127)\n",
      "memory usage: 48.2 MB\n"
     ]
    }
   ],
   "source": [
    "train = pd.concat([df1,df2,df4,df5,df6],axis=0)\n",
    "train.info()"
   ]
  },
  {
   "cell_type": "code",
   "execution_count": 4,
   "metadata": {},
   "outputs": [
    {
     "name": "stdout",
     "output_type": "stream",
     "text": [
      "<class 'pandas.core.frame.DataFrame'>\n",
      "RangeIndex: 10000 entries, 0 to 9999\n",
      "Columns: 127 entries, y to WT_\n",
      "dtypes: int64(127)\n",
      "memory usage: 9.7 MB\n"
     ]
    }
   ],
   "source": [
    "test = df3\n",
    "test.info()"
   ]
  },
  {
   "cell_type": "code",
   "execution_count": 5,
   "metadata": {},
   "outputs": [
    {
     "name": "stdout",
     "output_type": "stream",
     "text": [
      "<class 'pandas.core.frame.DataFrame'>\n",
      "Int64Index: 59381 entries, 0 to 9380\n",
      "Columns: 127 entries, y to WT_\n",
      "dtypes: int64(127)\n",
      "memory usage: 58.0 MB\n"
     ]
    }
   ],
   "source": [
    "df = pd.concat([df1,df2,df3,df4,df5,df6],axis=0)\n",
    "df.info()"
   ]
  },
  {
   "cell_type": "code",
   "execution_count": 6,
   "metadata": {},
   "outputs": [
    {
     "name": "stdout",
     "output_type": "stream",
     "text": [
      "<class 'pandas.core.frame.DataFrame'>\n",
      "RangeIndex: 19765 entries, 0 to 19764\n",
      "Columns: 127 entries, Id to WT_\n",
      "dtypes: int64(127)\n",
      "memory usage: 19.2 MB\n"
     ]
    }
   ],
   "source": [
    "sub = dft\n",
    "sub.info()"
   ]
  },
  {
   "cell_type": "markdown",
   "metadata": {},
   "source": [
    "# Clean the Data"
   ]
  },
  {
   "cell_type": "code",
   "execution_count": 7,
   "metadata": {
    "collapsed": true
   },
   "outputs": [],
   "source": [
    "cat_feats = ['BMI_', 'EI_1_', 'EI_2_', 'EI_3_', 'EI_4_', 'EI_5_', 'EI_6_', 'FH_1_', 'FH_2_', 'FH_3_', 'FH_4_', 'FH_5_', \n",
    "             'HT_', 'IAGE_', 'IH_1_', 'IH_2_', 'IH_3_', 'IH_4_', 'IH_5_', 'IH_7_', 'IH_8_', 'IH_9_', \n",
    "             'II_1_', 'II_2_', 'II_3_', 'II_4_', 'II_5_', 'II_6_', 'II_7_', 'MH_1_', 'MH_2_', 'MH_3_', 'MH_4_', 'MH_5_', 'MH_6_', \n",
    "             'MH_7_', 'MH_8_', 'MH_9_', 'MH_10_', 'MH_11_', 'MH_12_', 'MH_13_', 'MH_14_', 'MH_15_', 'MH_16_', 'MH_17_', 'MH_18_', \n",
    "             'MH_19_', 'MH_20_', 'MH_21_', 'MH_22_', 'MH_23_', 'MH_24_', 'MH_25_', 'MH_26_', 'MH_27_', 'MH_28_', 'MH_29_', \n",
    "             'MH_30_', 'MH_31_', 'MH_32_', 'MH_33_', 'MH_34_', 'MH_35_', 'MH_36_', 'MH_37_', 'MH_38_', 'MH_39_', 'MH_40_', 'MH_41_', \n",
    "             'MK_1_', 'MK_2_', 'MK_3_', 'MK_4_', 'MK_5_', 'MK_6_', 'MK_7_', 'MK_8_', 'MK_9_', 'MK_10_', 'MK_11_', 'MK_12_', \n",
    "             'MK_13_', 'MK_14_', 'MK_15_', 'MK_16_', 'MK_17_', 'MK_18_', 'MK_19_', 'MK_20_', 'MK_21_', 'MK_22_', 'MK_23_', 'MK_24_', \n",
    "             'MK_25_', 'MK_26_', 'MK_27_', 'MK_28_', 'MK_29_', 'MK_30_', 'MK_31_', 'MK_32_', 'MK_33_', 'MK_34_', 'MK_35_', 'MK_36_', \n",
    "             'MK_37_', 'MK_38_', 'MK_39_', 'MK_40_', 'MK_41_', 'MK_42_', 'MK_43_', 'MK_44_', 'MK_45_', 'MK_46_', 'MK_47_', 'MK_48_', \n",
    "             'PI_1_', 'PI_2_', 'PI_3_', 'PI_4_', 'PI_5_', 'PI_6_', 'PI_7_', 'WT_']"
   ]
  },
  {
   "cell_type": "code",
   "execution_count": 8,
   "metadata": {
    "collapsed": true
   },
   "outputs": [],
   "source": [
    "y_train = train['y'].copy()\n",
    "x_train = train.drop('y', 1).copy()\n",
    "x_train = pd.get_dummies(x_train,columns=cat_feats,drop_first=True).copy()"
   ]
  },
  {
   "cell_type": "code",
   "execution_count": 9,
   "metadata": {
    "collapsed": true
   },
   "outputs": [],
   "source": [
    "y_test = test['y'].copy()\n",
    "x_test = test.drop('y', 1).copy()\n",
    "x_test = pd.get_dummies(x_test,columns=cat_feats,drop_first=True).copy()"
   ]
  },
  {
   "cell_type": "code",
   "execution_count": 10,
   "metadata": {
    "collapsed": true
   },
   "outputs": [],
   "source": [
    "y_df = df['y'].copy()\n",
    "x_df = df.drop('y', 1).copy()\n",
    "x_df = pd.get_dummies(x_df,columns=cat_feats,drop_first=True).copy()"
   ]
  },
  {
   "cell_type": "code",
   "execution_count": 11,
   "metadata": {
    "collapsed": true
   },
   "outputs": [],
   "source": [
    "y_sub = sub['Id'].copy()\n",
    "x_sub = sub.drop('Id', 1).copy()\n",
    "x_sub = pd.get_dummies(x_sub,columns=cat_feats,drop_first=True).copy()"
   ]
  },
  {
   "cell_type": "markdown",
   "metadata": {},
   "source": [
    "# Random Forest"
   ]
  },
  {
   "cell_type": "code",
   "execution_count": 12,
   "metadata": {},
   "outputs": [
    {
     "data": {
      "text/plain": [
       "<matplotlib.axes._subplots.AxesSubplot at 0x1ff192a56a0>"
      ]
     },
     "execution_count": 12,
     "metadata": {},
     "output_type": "execute_result"
    },
    {
     "data": {
      "image/png": "[encoded data removed]",
      "text/plain": [
       "<matplotlib.figure.Figure at 0x1ff192ac898>"
      ]
     },
     "metadata": {},
     "output_type": "display_data"
    }
   ],
   "source": [
    "results = []\n",
    "n_estimaor_options = [25,50,75,100,125,150,175,200]\n",
    "for trees in n_estimaor_options:\n",
    "    model = RandomForestClassifier(trees, oob_score=True, n_jobs=-1, random_state=101)\n",
    "    model.fit(x_train, y_train)\n",
    "    y_pred = model.predict(x_test)\n",
    "    accuracy = np.mean(y_test==y_pred)\n",
    "    results.append(accuracy)\n",
    "\n",
    "plt.figure(figsize=(8,4))\n",
    "pd.Series(results, n_estimaor_options).plot(color=\"darkred\",marker=\"o\")"
   ]
  },
  {
   "cell_type": "code",
   "execution_count": 13,
   "metadata": {},
   "outputs": [
    {
     "data": {
      "text/plain": [
       "<matplotlib.axes._subplots.AxesSubplot at 0x1ff192aa320>"
      ]
     },
     "execution_count": 13,
     "metadata": {},
     "output_type": "execute_result"
    },
    {
     "data": {
      "image/png": "[encoded data removed]",
      "text/plain": [
       "<matplotlib.figure.Figure at 0x1ff002658d0>"
      ]
     },
     "metadata": {},
     "output_type": "display_data"
    }
   ],
   "source": [
    "results = []\n",
    "min_samples_leaf_options = [10,20,30,40,50]\n",
    "for trees in min_samples_leaf_options:\n",
    "    model = RandomForestClassifier(n_estimators=125, oob_score=True, n_jobs=-1, random_state=101, max_features = None, min_samples_leaf = trees)\n",
    "    model.fit(x_train, y_train)\n",
    "    y_pred = model.predict(x_test)\n",
    "    accuracy = np.mean(y_test==y_pred)\n",
    "    results.append(accuracy)\n",
    "\n",
    "plt.figure(figsize=(8,4))\n",
    "pd.Series(results, min_samples_leaf_options).plot(color=\"darkred\",marker=\"o\")"
   ]
  },
  {
   "cell_type": "code",
   "execution_count": 14,
   "metadata": {
    "collapsed": true
   },
   "outputs": [],
   "source": [
    "rfm = RandomForestClassifier(n_estimators=125, oob_score=True, n_jobs=-1, random_state=101, max_features = None, min_samples_leaf = 10)\n",
    "rfm.fit(x_train, y_train)\n",
    "y_pred=rfm.predict(x_test)"
   ]
  },
  {
   "cell_type": "code",
   "execution_count": 15,
   "metadata": {},
   "outputs": [
    {
     "name": "stdout",
     "output_type": "stream",
     "text": [
      "[[ 142  164   10   33   83  206  118  262]\n",
      " [  77  265    7   24  111  225  124  250]\n",
      " [  13   13   44   56   14   21    4    6]\n",
      " [  11    2   13  151    1   17    5   41]\n",
      " [  33  104    1    0  370  200   67  134]\n",
      " [  71   88    1    3  111  958  256  424]\n",
      " [  31   21    0    2   14  210  562  484]\n",
      " [  13   14    0    0   11  137  142 3025]]\n",
      "accuracy: 0.628086419753\n",
      "precision: 0.617715617716\n",
      "recall: 0.77485380117\n",
      "f1 score:  0.687418936446\n"
     ]
    }
   ],
   "source": [
    "test_calc = pd.concat([pd.DataFrame(y_test).reset_index(drop=True),pd.DataFrame(y_pred).reset_index(drop=True)],axis=1)\n",
    "test_calc.rename(columns={0: 'predicted'}, inplace=True)\n",
    "\n",
    "df_table = confusion_matrix(test_calc['y'],test_calc['predicted'])\n",
    "print (df_table)\n",
    "\n",
    "print('accuracy:', (df_table[0,0] + df_table[1,1]) / (df_table[0,0] + df_table[0,1] + df_table[1,0] + df_table[1,1]))\n",
    "print ('precision:', df_table[1,1] / (df_table[1,1] + df_table[0,1]))\n",
    "print('recall:', df_table[1,1] / (df_table[1,1] + df_table[1,0]))\n",
    "\n",
    "p = df_table[1,1] / (df_table[1,1] + df_table[0,1])\n",
    "r = df_table[1,1] / (df_table[1,1] + df_table[1,0])\n",
    "print('f1 score: ', (2*p*r)/(p+r))"
   ]
  },
  {
   "cell_type": "markdown",
   "metadata": {},
   "source": [
    "# Output"
   ]
  },
  {
   "cell_type": "code",
   "execution_count": 16,
   "metadata": {
    "collapsed": true
   },
   "outputs": [],
   "source": [
    "y_df=pd.DataFrame(rfm.predict(x_df))\n",
    "y_df.rename(columns={0: '33_df'}, inplace=True)\n",
    "y_df.to_csv('33_df.csv')"
   ]
  },
  {
   "cell_type": "code",
   "execution_count": 17,
   "metadata": {
    "collapsed": true
   },
   "outputs": [],
   "source": [
    "Response=pd.DataFrame(rfm.predict(x_sub))\n",
    "sub = pd.concat([y_sub,Response],axis=1)\n",
    "sub.rename(columns={0: 'Response'}, inplace=True)\n",
    "sub.to_csv('33_sub.csv',index = False)"
   ]
  }
 ],
 "metadata": {
  "kernelspec": {
   "display_name": "Python 3",
   "language": "python",
   "name": "python3"
  },
  "language_info": {
   "codemirror_mode": {
    "name": "ipython",
    "version": 3
   },
   "file_extension": ".py",
   "mimetype": "text/x-python",
   "name": "python",
   "nbconvert_exporter": "python",
   "pygments_lexer": "ipython3",
   "version": "3.6.2"
  }
 },
 "nbformat": 4,
 "nbformat_minor": 2
}
