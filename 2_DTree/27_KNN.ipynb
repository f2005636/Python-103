{
 "cells": [
  {
   "cell_type": "markdown",
   "metadata": {},
   "source": [
    "# Prudential Life Insurance Assessment"
   ]
  },
  {
   "cell_type": "code",
   "execution_count": 1,
   "metadata": {
    "collapsed": true
   },
   "outputs": [],
   "source": [
    "import math\n",
    "import numpy as np\n",
    "import pandas as pd\n",
    "from datetime import datetime\n",
    "\n",
    "import seaborn as sns\n",
    "import matplotlib.pyplot as plt\n",
    "%matplotlib inline \n",
    "plt.style.use('seaborn-whitegrid')\n",
    "\n",
    "from sklearn.neighbors import KNeighborsClassifier\n",
    "from sklearn.metrics import classification_report\n",
    "from sklearn.metrics import confusion_matrix"
   ]
  },
  {
   "cell_type": "markdown",
   "metadata": {},
   "source": [
    "# Get the Data"
   ]
  },
  {
   "cell_type": "code",
   "execution_count": 2,
   "metadata": {
    "collapsed": true
   },
   "outputs": [],
   "source": [
    "df = pd.read_csv('E:/AdvAnal/python_103/1_Data/14_dtree_train.csv')\n",
    "dft = pd.read_csv('E:/AdvAnal/python_103/1_Data/14_dtree_test.csv')"
   ]
  },
  {
   "cell_type": "code",
   "execution_count": 3,
   "metadata": {},
   "outputs": [
    {
     "name": "stdout",
     "output_type": "stream",
     "text": [
      "<class 'pandas.core.frame.DataFrame'>\n",
      "Int64Index: 30000 entries, 0 to 29999\n",
      "Data columns (total 7 columns):\n",
      "y        30000 non-null int64\n",
      "21_df    30000 non-null int64\n",
      "22_df    30000 non-null int64\n",
      "23_df    30000 non-null int64\n",
      "24_df    30000 non-null int64\n",
      "25_df    30000 non-null int64\n",
      "26_df    30000 non-null int64\n",
      "dtypes: int64(7)\n",
      "memory usage: 1.8 MB\n"
     ]
    }
   ],
   "source": [
    "train = df[df.index < 30000].copy()\n",
    "train.info()"
   ]
  },
  {
   "cell_type": "code",
   "execution_count": 4,
   "metadata": {},
   "outputs": [
    {
     "name": "stdout",
     "output_type": "stream",
     "text": [
      "<class 'pandas.core.frame.DataFrame'>\n",
      "Int64Index: 29381 entries, 30000 to 59380\n",
      "Data columns (total 7 columns):\n",
      "y        29381 non-null int64\n",
      "21_df    29381 non-null int64\n",
      "22_df    29381 non-null int64\n",
      "23_df    29381 non-null int64\n",
      "24_df    29381 non-null int64\n",
      "25_df    29381 non-null int64\n",
      "26_df    29381 non-null int64\n",
      "dtypes: int64(7)\n",
      "memory usage: 1.8 MB\n"
     ]
    }
   ],
   "source": [
    "test = df[df.index >= 30000].copy()\n",
    "test.info()"
   ]
  },
  {
   "cell_type": "code",
   "execution_count": 5,
   "metadata": {},
   "outputs": [
    {
     "name": "stdout",
     "output_type": "stream",
     "text": [
      "<class 'pandas.core.frame.DataFrame'>\n",
      "RangeIndex: 19765 entries, 0 to 19764\n",
      "Data columns (total 7 columns):\n",
      "Id       19765 non-null int64\n",
      "21_df    19765 non-null int64\n",
      "22_df    19765 non-null int64\n",
      "23_df    19765 non-null int64\n",
      "24_df    19765 non-null int64\n",
      "25_df    19765 non-null int64\n",
      "26_df    19765 non-null int64\n",
      "dtypes: int64(7)\n",
      "memory usage: 1.1 MB\n"
     ]
    }
   ],
   "source": [
    "sub = dft\n",
    "sub.info()"
   ]
  },
  {
   "cell_type": "markdown",
   "metadata": {},
   "source": [
    "# Clean the Data"
   ]
  },
  {
   "cell_type": "code",
   "execution_count": 6,
   "metadata": {
    "collapsed": true
   },
   "outputs": [],
   "source": [
    "cat_feats = ['21_df', '22_df', '23_df', '24_df', '25_df', '26_df']"
   ]
  },
  {
   "cell_type": "code",
   "execution_count": 7,
   "metadata": {
    "collapsed": true
   },
   "outputs": [],
   "source": [
    "y_train = train['y'].copy()\n",
    "x_train = train.drop('y', 1).copy()\n",
    "x_train = pd.get_dummies(x_train,columns=cat_feats,drop_first=True).copy()"
   ]
  },
  {
   "cell_type": "code",
   "execution_count": 8,
   "metadata": {
    "collapsed": true
   },
   "outputs": [],
   "source": [
    "y_test = test['y'].copy()\n",
    "x_test = test.drop('y', 1).copy()\n",
    "x_test = pd.get_dummies(x_test,columns=cat_feats,drop_first=True).copy()"
   ]
  },
  {
   "cell_type": "code",
   "execution_count": 9,
   "metadata": {
    "collapsed": true
   },
   "outputs": [],
   "source": [
    "y_df = df['y'].copy()\n",
    "x_df = df.drop('y', 1).copy()\n",
    "x_df = pd.get_dummies(x_df,columns=cat_feats,drop_first=True).copy()"
   ]
  },
  {
   "cell_type": "code",
   "execution_count": 10,
   "metadata": {
    "collapsed": true
   },
   "outputs": [],
   "source": [
    "y_sub = sub['Id'].copy()\n",
    "x_sub = sub.drop('Id', 1).copy()\n",
    "x_sub = pd.get_dummies(x_sub,columns=cat_feats,drop_first=True).copy()"
   ]
  },
  {
   "cell_type": "markdown",
   "metadata": {},
   "source": [
    "# KNN"
   ]
  },
  {
   "cell_type": "code",
   "execution_count": 11,
   "metadata": {
    "collapsed": true
   },
   "outputs": [],
   "source": [
    "error_rate = []\n",
    "for i in range(6,61,5):    \n",
    "    knn = KNeighborsClassifier(n_neighbors=i)\n",
    "    knn.fit(x_train,y_train)\n",
    "    pred_i = knn.predict(x_test)\n",
    "    error_rate.append(np.mean(pred_i != y_test))"
   ]
  },
  {
   "cell_type": "code",
   "execution_count": 12,
   "metadata": {},
   "outputs": [
    {
     "data": {
      "text/plain": [
       "Text(0,0.5,'Error Rate')"
      ]
     },
     "execution_count": 12,
     "metadata": {},
     "output_type": "execute_result"
    },
    {
     "data": {
      "image/png": "[encoded data removed]",
      "text/plain": [
       "<matplotlib.figure.Figure at 0x23adf57ee80>"
      ]
     },
     "metadata": {},
     "output_type": "display_data"
    }
   ],
   "source": [
    "plt.figure(figsize=(8,4))\n",
    "plt.plot(range(6,61,5),error_rate,color='darkred', marker='o',markersize=10)\n",
    "plt.title('Error Rate vs. K Value')\n",
    "plt.xlabel('K')\n",
    "plt.ylabel('Error Rate')"
   ]
  },
  {
   "cell_type": "code",
   "execution_count": 13,
   "metadata": {
    "collapsed": true
   },
   "outputs": [],
   "source": [
    "knn = KNeighborsClassifier(n_neighbors=40)\n",
    "knn.fit(x_train,y_train)\n",
    "y_pred=knn.predict(x_test)"
   ]
  },
  {
   "cell_type": "code",
   "execution_count": 14,
   "metadata": {},
   "outputs": [
    {
     "name": "stdout",
     "output_type": "stream",
     "text": [
      "[[ 711  338   25  148  232  584  331  681]\n",
      " [ 371  911   22   93  298  587  329  664]\n",
      " [  37   42   79  209   38   64   22   22]\n",
      " [  32    1   29  456    1   54   49   89]\n",
      " [ 150  264    1   10 1125  542  194  394]\n",
      " [ 287  233    7   19  303 2976  673 1129]\n",
      " [ 119   51    0   14   40  722 1606 1410]\n",
      " [  59   32    1   27   26  492  428 8498]]\n",
      "accuracy: 0.695838695839\n",
      "precision: 0.729383506805\n",
      "recall: 0.710608424337\n",
      "f1 score:  0.71987356776\n"
     ]
    }
   ],
   "source": [
    "test_calc = pd.concat([pd.DataFrame(y_test).reset_index(drop=True),pd.DataFrame(y_pred).reset_index(drop=True)],axis=1)\n",
    "test_calc.rename(columns={0: 'predicted'}, inplace=True)\n",
    "\n",
    "df_table = confusion_matrix(test_calc['y'],test_calc['predicted'])\n",
    "print (df_table)\n",
    "\n",
    "print('accuracy:', (df_table[0,0] + df_table[1,1]) / (df_table[0,0] + df_table[0,1] + df_table[1,0] + df_table[1,1]))\n",
    "print ('precision:', df_table[1,1] / (df_table[1,1] + df_table[0,1]))\n",
    "print('recall:', df_table[1,1] / (df_table[1,1] + df_table[1,0]))\n",
    "\n",
    "p = df_table[1,1] / (df_table[1,1] + df_table[0,1])\n",
    "r = df_table[1,1] / (df_table[1,1] + df_table[1,0])\n",
    "print('f1 score: ', (2*p*r)/(p+r))"
   ]
  }
 ],
 "metadata": {
  "kernelspec": {
   "display_name": "Python 3",
   "language": "python",
   "name": "python3"
  },
  "language_info": {
   "codemirror_mode": {
    "name": "ipython",
    "version": 3
   },
   "file_extension": ".py",
   "mimetype": "text/x-python",
   "name": "python",
   "nbconvert_exporter": "python",
   "pygments_lexer": "ipython3",
   "version": "3.6.2"
  }
 },
 "nbformat": 4,
 "nbformat_minor": 2
}
