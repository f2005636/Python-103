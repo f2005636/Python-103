{
 "cells": [
  {
   "cell_type": "markdown",
   "metadata": {},
   "source": [
    "# Prudential Life Insurance Assessment"
   ]
  },
  {
   "cell_type": "code",
   "execution_count": 1,
   "metadata": {
    "collapsed": true
   },
   "outputs": [],
   "source": [
    "import math\n",
    "import numpy as np\n",
    "import pandas as pd\n",
    "from datetime import datetime\n",
    "\n",
    "import seaborn as sns\n",
    "import matplotlib.pyplot as plt\n",
    "%matplotlib inline \n",
    "plt.style.use('seaborn-whitegrid')\n",
    "\n",
    "from sklearn.tree import DecisionTreeClassifier\n",
    "from sklearn.metrics import classification_report\n",
    "from sklearn.metrics import confusion_matrix"
   ]
  },
  {
   "cell_type": "markdown",
   "metadata": {},
   "source": [
    "# Get the Data"
   ]
  },
  {
   "cell_type": "code",
   "execution_count": 2,
   "metadata": {
    "collapsed": true
   },
   "outputs": [],
   "source": [
    "df1 = pd.read_csv('E:/AdvAnal/python_103/1_Data/df_train1.csv')\n",
    "df2 = pd.read_csv('E:/AdvAnal/python_103/1_Data/df_train2.csv')\n",
    "df3 = pd.read_csv('E:/AdvAnal/python_103/1_Data/df_train3.csv')\n",
    "df4 = pd.read_csv('E:/AdvAnal/python_103/1_Data/df_train4.csv')\n",
    "df5 = pd.read_csv('E:/AdvAnal/python_103/1_Data/df_train5.csv')\n",
    "df6 = pd.read_csv('E:/AdvAnal/python_103/1_Data/df_train6.csv')\n",
    "dft = pd.read_csv('E:/AdvAnal/python_103/1_Data/df_test.csv')"
   ]
  },
  {
   "cell_type": "code",
   "execution_count": 3,
   "metadata": {},
   "outputs": [
    {
     "name": "stdout",
     "output_type": "stream",
     "text": [
      "<class 'pandas.core.frame.DataFrame'>\n",
      "Int64Index: 49381 entries, 0 to 9380\n",
      "Columns: 127 entries, y to WT_\n",
      "dtypes: int64(127)\n",
      "memory usage: 48.2 MB\n"
     ]
    }
   ],
   "source": [
    "train = pd.concat([df1,df2,df3,df4,df6],axis=0)\n",
    "train.info()"
   ]
  },
  {
   "cell_type": "code",
   "execution_count": 4,
   "metadata": {},
   "outputs": [
    {
     "name": "stdout",
     "output_type": "stream",
     "text": [
      "<class 'pandas.core.frame.DataFrame'>\n",
      "RangeIndex: 10000 entries, 0 to 9999\n",
      "Columns: 127 entries, y to WT_\n",
      "dtypes: int64(127)\n",
      "memory usage: 9.7 MB\n"
     ]
    }
   ],
   "source": [
    "test = df5\n",
    "test.info()"
   ]
  },
  {
   "cell_type": "code",
   "execution_count": 5,
   "metadata": {},
   "outputs": [
    {
     "name": "stdout",
     "output_type": "stream",
     "text": [
      "<class 'pandas.core.frame.DataFrame'>\n",
      "Int64Index: 59381 entries, 0 to 9380\n",
      "Columns: 127 entries, y to WT_\n",
      "dtypes: int64(127)\n",
      "memory usage: 58.0 MB\n"
     ]
    }
   ],
   "source": [
    "df = pd.concat([df1,df2,df3,df4,df5,df6],axis=0)\n",
    "df.info()"
   ]
  },
  {
   "cell_type": "code",
   "execution_count": 6,
   "metadata": {},
   "outputs": [
    {
     "name": "stdout",
     "output_type": "stream",
     "text": [
      "<class 'pandas.core.frame.DataFrame'>\n",
      "RangeIndex: 19765 entries, 0 to 19764\n",
      "Columns: 127 entries, Id to WT_\n",
      "dtypes: int64(127)\n",
      "memory usage: 19.2 MB\n"
     ]
    }
   ],
   "source": [
    "sub = dft\n",
    "sub.info()"
   ]
  },
  {
   "cell_type": "markdown",
   "metadata": {},
   "source": [
    "# Clean the Data"
   ]
  },
  {
   "cell_type": "code",
   "execution_count": 7,
   "metadata": {
    "collapsed": true
   },
   "outputs": [],
   "source": [
    "cat_feats = ['BMI_', 'EI_1_', 'EI_2_', 'EI_3_', 'EI_4_', 'EI_5_', 'EI_6_', 'FH_1_', 'FH_2_', 'FH_3_', 'FH_4_', 'FH_5_', \n",
    "             'HT_', 'IAGE_', 'IH_1_', 'IH_2_', 'IH_3_', 'IH_4_', 'IH_5_', 'IH_7_', 'IH_8_', 'IH_9_', \n",
    "             'II_1_', 'II_2_', 'II_3_', 'II_4_', 'II_5_', 'II_6_', 'II_7_', 'MH_1_', 'MH_2_', 'MH_3_', 'MH_4_', 'MH_5_', 'MH_6_', \n",
    "             'MH_7_', 'MH_8_', 'MH_9_', 'MH_10_', 'MH_11_', 'MH_12_', 'MH_13_', 'MH_14_', 'MH_15_', 'MH_16_', 'MH_17_', 'MH_18_', \n",
    "             'MH_19_', 'MH_20_', 'MH_21_', 'MH_22_', 'MH_23_', 'MH_24_', 'MH_25_', 'MH_26_', 'MH_27_', 'MH_28_', 'MH_29_', \n",
    "             'MH_30_', 'MH_31_', 'MH_32_', 'MH_33_', 'MH_34_', 'MH_35_', 'MH_36_', 'MH_37_', 'MH_38_', 'MH_39_', 'MH_40_', 'MH_41_', \n",
    "             'MK_1_', 'MK_2_', 'MK_3_', 'MK_4_', 'MK_5_', 'MK_6_', 'MK_7_', 'MK_8_', 'MK_9_', 'MK_10_', 'MK_11_', 'MK_12_', \n",
    "             'MK_13_', 'MK_14_', 'MK_15_', 'MK_16_', 'MK_17_', 'MK_18_', 'MK_19_', 'MK_20_', 'MK_21_', 'MK_22_', 'MK_23_', 'MK_24_', \n",
    "             'MK_25_', 'MK_26_', 'MK_27_', 'MK_28_', 'MK_29_', 'MK_30_', 'MK_31_', 'MK_32_', 'MK_33_', 'MK_34_', 'MK_35_', 'MK_36_', \n",
    "             'MK_37_', 'MK_38_', 'MK_39_', 'MK_40_', 'MK_41_', 'MK_42_', 'MK_43_', 'MK_44_', 'MK_45_', 'MK_46_', 'MK_47_', 'MK_48_', \n",
    "             'PI_1_', 'PI_2_', 'PI_3_', 'PI_4_', 'PI_5_', 'PI_6_', 'PI_7_', 'WT_']"
   ]
  },
  {
   "cell_type": "code",
   "execution_count": 8,
   "metadata": {
    "collapsed": true
   },
   "outputs": [],
   "source": [
    "y_train = train['y'].copy()\n",
    "x_train = train.drop('y', 1).copy()\n",
    "x_train = pd.get_dummies(x_train,columns=cat_feats,drop_first=True).copy()"
   ]
  },
  {
   "cell_type": "code",
   "execution_count": 9,
   "metadata": {
    "collapsed": true
   },
   "outputs": [],
   "source": [
    "y_test = test['y'].copy()\n",
    "x_test = test.drop('y', 1).copy()\n",
    "x_test = pd.get_dummies(x_test,columns=cat_feats,drop_first=True).copy()"
   ]
  },
  {
   "cell_type": "code",
   "execution_count": 10,
   "metadata": {
    "collapsed": true
   },
   "outputs": [],
   "source": [
    "y_df = df['y'].copy()\n",
    "x_df = df.drop('y', 1).copy()\n",
    "x_df = pd.get_dummies(x_df,columns=cat_feats,drop_first=True).copy()"
   ]
  },
  {
   "cell_type": "code",
   "execution_count": 11,
   "metadata": {
    "collapsed": true
   },
   "outputs": [],
   "source": [
    "y_sub = sub['Id'].copy()\n",
    "x_sub = sub.drop('Id', 1).copy()\n",
    "x_sub = pd.get_dummies(x_sub,columns=cat_feats,drop_first=True).copy()"
   ]
  },
  {
   "cell_type": "markdown",
   "metadata": {},
   "source": [
    "# Decision Tree"
   ]
  },
  {
   "cell_type": "code",
   "execution_count": 12,
   "metadata": {},
   "outputs": [
    {
     "data": {
      "text/plain": [
       "<matplotlib.axes._subplots.AxesSubplot at 0x1d41ac851d0>"
      ]
     },
     "execution_count": 12,
     "metadata": {},
     "output_type": "execute_result"
    },
    {
     "data": {
      "image/png": "[encoded data removed]",
      "text/plain": [
       "<matplotlib.figure.Figure at 0x1d41ac23940>"
      ]
     },
     "metadata": {},
     "output_type": "display_data"
    }
   ],
   "source": [
    "results = []\n",
    "max_depth_options = [2,5,10,15,20,25,30,35,40,50]\n",
    "for trees in max_depth_options:\n",
    "    model = DecisionTreeClassifier(max_depth=trees, random_state=101)\n",
    "    model.fit(x_train, y_train)\n",
    "    y_pred = model.predict(x_test)\n",
    "    accuracy = np.mean(y_test==y_pred)\n",
    "    results.append(accuracy)\n",
    "\n",
    "plt.figure(figsize=(8,4))\n",
    "pd.Series(results, max_depth_options).plot(color=\"darkred\",marker=\"o\")"
   ]
  },
  {
   "cell_type": "code",
   "execution_count": 13,
   "metadata": {},
   "outputs": [
    {
     "data": {
      "text/plain": [
       "<matplotlib.axes._subplots.AxesSubplot at 0x1d41ac99fd0>"
      ]
     },
     "execution_count": 13,
     "metadata": {},
     "output_type": "execute_result"
    },
    {
     "data": {
      "image/png": "[encoded data removed]",
      "text/plain": [
       "<matplotlib.figure.Figure at 0x1d41b92b3c8>"
      ]
     },
     "metadata": {},
     "output_type": "display_data"
    }
   ],
   "source": [
    "results = []\n",
    "max_features_options = ['auto',None,'sqrt',0.95,0.75,0.5,0.25,0.10]\n",
    "for trees in max_features_options:\n",
    "    model = DecisionTreeClassifier(max_depth=15, random_state=101, max_features = trees)\n",
    "    model.fit(x_train, y_train)\n",
    "    y_pred = model.predict(x_test)\n",
    "    accuracy = np.mean(y_test==y_pred)\n",
    "    results.append(accuracy)\n",
    "\n",
    "plt.figure(figsize=(8,4))\n",
    "pd.Series(results, max_features_options).plot(kind=\"bar\",color=\"darkred\",ylim=(0.25,0.75))"
   ]
  },
  {
   "cell_type": "code",
   "execution_count": 14,
   "metadata": {},
   "outputs": [
    {
     "data": {
      "text/plain": [
       "<matplotlib.axes._subplots.AxesSubplot at 0x1d41ba0c5f8>"
      ]
     },
     "execution_count": 14,
     "metadata": {},
     "output_type": "execute_result"
    },
    {
     "data": {
      "image/png": "[encoded data removed]",
      "text/plain": [
       "<matplotlib.figure.Figure at 0x1d41ac12630>"
      ]
     },
     "metadata": {},
     "output_type": "display_data"
    }
   ],
   "source": [
    "results = []\n",
    "min_samples_leaf_options = [5,10,15,20,25,30,35,40,45,50]\n",
    "for trees in min_samples_leaf_options:\n",
    "    model = DecisionTreeClassifier(max_depth=15, random_state=101, max_features = None, min_samples_leaf = trees)\n",
    "    model.fit(x_train, y_train)\n",
    "    y_pred = model.predict(x_test)\n",
    "    accuracy = np.mean(y_test==y_pred)\n",
    "    results.append(accuracy)\n",
    "\n",
    "plt.figure(figsize=(8,4))\n",
    "pd.Series(results, min_samples_leaf_options).plot(color=\"darkred\",marker=\"o\")"
   ]
  },
  {
   "cell_type": "code",
   "execution_count": 15,
   "metadata": {
    "collapsed": true
   },
   "outputs": [],
   "source": [
    "dtree = DecisionTreeClassifier(max_depth=15, random_state=101, max_features = None, min_samples_leaf = 15)\n",
    "dtree.fit(x_train, y_train)\n",
    "y_pred=dtree.predict(x_test)"
   ]
  },
  {
   "cell_type": "code",
   "execution_count": 16,
   "metadata": {},
   "outputs": [
    {
     "name": "stdout",
     "output_type": "stream",
     "text": [
      "[[ 158  130   11   56   92  209  132  242]\n",
      " [ 136  231    9   29  136  200  129  219]\n",
      " [  13   10   24   77   15   23    9    9]\n",
      " [  12    3   11  154    0   10   15   36]\n",
      " [  61  117    2    4  312  198   63  154]\n",
      " [ 115   88    1    9  103  879  297  418]\n",
      " [  52   30    0    6   18  249  520  499]\n",
      " [  15   12    0    7    5  180  132 2914]]\n",
      "accuracy: 0.593893129771\n",
      "precision: 0.639889196676\n",
      "recall: 0.629427792916\n",
      "f1 score:  0.634615384615\n"
     ]
    }
   ],
   "source": [
    "test_calc = pd.concat([pd.DataFrame(y_test).reset_index(drop=True),pd.DataFrame(y_pred).reset_index(drop=True)],axis=1)\n",
    "test_calc.rename(columns={0: 'predicted'}, inplace=True)\n",
    "\n",
    "df_table = confusion_matrix(test_calc['y'],test_calc['predicted'])\n",
    "print (df_table)\n",
    "\n",
    "print('accuracy:', (df_table[0,0] + df_table[1,1]) / (df_table[0,0] + df_table[0,1] + df_table[1,0] + df_table[1,1]))\n",
    "print ('precision:', df_table[1,1] / (df_table[1,1] + df_table[0,1]))\n",
    "print('recall:', df_table[1,1] / (df_table[1,1] + df_table[1,0]))\n",
    "\n",
    "p = df_table[1,1] / (df_table[1,1] + df_table[0,1])\n",
    "r = df_table[1,1] / (df_table[1,1] + df_table[1,0])\n",
    "print('f1 score: ', (2*p*r)/(p+r))"
   ]
  },
  {
   "cell_type": "markdown",
   "metadata": {},
   "source": [
    "# Output"
   ]
  },
  {
   "cell_type": "code",
   "execution_count": 17,
   "metadata": {
    "collapsed": true
   },
   "outputs": [],
   "source": [
    "y_df=pd.DataFrame(dtree.predict(x_df))\n",
    "y_df.rename(columns={0: '25_df'}, inplace=True)\n",
    "y_df.to_csv('25_df.csv')"
   ]
  },
  {
   "cell_type": "code",
   "execution_count": 18,
   "metadata": {
    "collapsed": true
   },
   "outputs": [],
   "source": [
    "Response=pd.DataFrame(dtree.predict(x_sub))\n",
    "sub = pd.concat([y_sub,Response],axis=1)\n",
    "sub.rename(columns={0: 'Response'}, inplace=True)\n",
    "sub.to_csv('25_sub.csv',index = False)"
   ]
  }
 ],
 "metadata": {
  "kernelspec": {
   "display_name": "Python 3",
   "language": "python",
   "name": "python3"
  },
  "language_info": {
   "codemirror_mode": {
    "name": "ipython",
    "version": 3
   },
   "file_extension": ".py",
   "mimetype": "text/x-python",
   "name": "python",
   "nbconvert_exporter": "python",
   "pygments_lexer": "ipython3",
   "version": "3.6.2"
  }
 },
 "nbformat": 4,
 "nbformat_minor": 2
}
